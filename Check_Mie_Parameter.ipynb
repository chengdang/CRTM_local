{
 "cells": [
  {
   "cell_type": "code",
   "execution_count": 16,
   "metadata": {},
   "outputs": [],
   "source": [
    "# Cheng Dang 2021,10\n",
    "\n",
    "# Check Mie Parameter\n",
    "\n",
    "#  *** CRTM CODE ***:\n",
    "#  --- CRTM_RTSolution.f90 ---\n",
    "#  FUNCTION CRTM_Compute_nStreams( &\n",
    "#     Atmosphere  , &  ! Input\n",
    "#     SensorIndex , &  ! Input\n",
    "#     ChannelIndex, &  ! Input\n",
    "#     RTSolution  ) &  ! Output\n",
    "#   RESULT( nStreams )\n",
    "\n",
    "#     ! Determine the maximum cloud particle size\n",
    "#     maxReff = ZERO\n",
    "#     DO n = 1, Atmosphere%n_Clouds\n",
    "#       Reff = MAXVAL(Atmosphere%Cloud(n)%Effective_Radius)\n",
    "#       IF( Reff > maxReff) maxReff = Reff\n",
    "#     END DO\n",
    "#     DO n = 1, Atmosphere%n_Aerosols\n",
    "#       Reff = MAXVAL(Atmosphere%Aerosol(n)%Effective_Radius)\n",
    "#       IF( Reff > maxReff) maxReff = Reff\n",
    "#     END DO\n",
    "    \n",
    "#     ! Compute the Mie parameter, 2.pi.Reff/lambda\n",
    "#     MieParameter = TWO * PI * maxReff * SC(SensorIndex)%Wavenumber(ChannelIndex)/10000.0_fp\n",
    "\n",
    "#     ! Determine the number of streams based on Mie parameter\n",
    "#     IF ( MieParameter < 0.01_fp ) THEN\n",
    "#       nStreams = 2\n",
    "#     ELSE IF( MieParameter < ONE ) THEN\n",
    "#       nStreams = 4\n",
    "#     ELSE\n",
    "#       nStreams = 6\n",
    "#     END IF\n",
    "\n",
    "#   --- Spectral_Units_Conversion.f90 ---  \n",
    "#   REAL(fp), PARAMETER, PUBLIC :: SPEED_OF_LIGHT = 2.99792458e+08_fp\n",
    "#   C => SPEED_OF_LIGHT\n",
    "#\n",
    "#   ELEMENTAL FUNCTION GHz_to_inverse_cm( Frequency ) RESULT( Wavenumber )\n",
    "#     REAL(fp), INTENT(IN) :: Frequency\n",
    "#     REAL(fp)             :: Wavenumber\n",
    "#     REAL(fp), PARAMETER  :: SCALE_FACTOR = 1.0e+07_fp\n",
    "#     IF ( Frequency < EPSILON(ONE) ) THEN\n",
    "#       Wavenumber = ZERO\n",
    "#       RETURN\n",
    "#     END IF\n",
    "#     Wavenumber = SCALE_FACTOR * Frequency / C\n",
    "#   END FUNCTION GHz_to_inverse_cm"
   ]
  },
  {
   "cell_type": "code",
   "execution_count": 17,
   "metadata": {},
   "outputs": [],
   "source": [
    "from netCDF4 import Dataset\n",
    "import matplotlib\n",
    "import matplotlib.pyplot as plt\n",
    "import numpy as np\n",
    "import math"
   ]
  },
  {
   "cell_type": "code",
   "execution_count": 29,
   "metadata": {},
   "outputs": [],
   "source": [
    "def readnc(infile, varname):\n",
    "    nc_fid = Dataset(infile,'r')\n",
    "    out =  np.array(nc_fid.variables[varname][:])\n",
    "    return out\n",
    "\n",
    "def GHz_to_inverse_cm(frq_mtx):\n",
    "    C = 2.99792458e8 #Speed of light\n",
    "    SCALE_FACTOR = 1.0e7\n",
    "    wvn_mtx = [(SCALE_FACTOR * i / C) for i in frq_mtx]\n",
    "#     wvn_mtx = np.zeros(len(frq_mtx))    \n",
    "#     for i, frq in enumerate(frq_mtx):\n",
    "#         wvn_mtx[i] = SCALE_FACTOR * frq / C\n",
    "    return wvn_mtx\n",
    "  \n",
    "def compute_nstr(Reff, wvn):\n",
    "    # MieParameter = TWO * PI * maxReff * SC(SensorIndex)%Wavenumber(ChannelIndex)/10000.0_fp\n",
    "    MP = 2.0 * math.pi * Reff * wvn / 1e4\n",
    "    if MP < 0.01:\n",
    "        NSTR = 2\n",
    "    elif MP < 1:\n",
    "        NSTR = 4\n",
    "    else:\n",
    "        NSTR = 6\n",
    "    return NSTR"
   ]
  },
  {
   "cell_type": "code",
   "execution_count": 30,
   "metadata": {},
   "outputs": [
    {
     "data": {
      "text/plain": [
       "<class 'netCDF4._netCDF4.Dataset'>\n",
       "root group (NETCDF4 data model, file format HDF5):\n",
       "    write_module_history: $Id: CloudCoeff_netCDF_IO.f90 6760 2010-02-25 16:02:55Z paul.vandelst@noaa.gov $\n",
       "    creation_date_and_time: 2010/02/25, 13:03:14 -0500UTC\n",
       "    Release: 3\n",
       "    Version: 4\n",
       "    Title: CRTM Cloud Optical Properties in Infrared/Visible and Microwave Ranges\n",
       "    History: $Id: CloudCoeff_R2_to_R3.f90 6765 2010-02-25 18:02:26Z paul.vandelst@noaa.gov $\n",
       "    Comment: All MW, IR/VIS (note variable with _IR actual for both IR and VIS) liquid phase and solid phase with  the density < 0.9 g/cm3 are generated using a MIE code (Simmer, 1994). IR and visible solid phase with the density = 0.9 g/cm3 is adopted  from non-spherical particle of P. Yang (Liou and Yang, 1995) The asymmetry factor for non-spherical particles is used for the phase function.\n",
       "    dimensions(sizes): n_MW_Frequencies(31), n_MW_Radii(10), n_IR_Frequencies(61), n_IR_Radii(10), n_Temperatures(5), n_Densities(3), n_IR_Densities(4), n_Legendre_Terms(39), n_Phase_Elements(1)\n",
       "    variables(dimensions): float64 \u001b[4mFrequency_MW\u001b[0m(n_MW_Frequencies), float64 \u001b[4mFrequency_IR\u001b[0m(n_IR_Frequencies), float64 \u001b[4mReff_MW\u001b[0m(n_MW_Radii), float64 \u001b[4mReff_IR\u001b[0m(n_IR_Radii), float64 \u001b[4mTemperature\u001b[0m(n_Temperatures), float64 \u001b[4mDensity\u001b[0m(n_Densities), float64 \u001b[4mke_L_MW\u001b[0m(n_Temperatures,n_MW_Radii,n_MW_Frequencies), float64 \u001b[4mw_L_MW\u001b[0m(n_Temperatures,n_MW_Radii,n_MW_Frequencies), float64 \u001b[4mg_L_MW\u001b[0m(n_Temperatures,n_MW_Radii,n_MW_Frequencies), float64 \u001b[4mpcoeff_L_MW\u001b[0m(n_Phase_Elements,n_Legendre_Terms,n_Temperatures,n_MW_Radii,n_MW_Frequencies), float64 \u001b[4mke_S_MW\u001b[0m(n_Densities,n_MW_Radii,n_MW_Frequencies), float64 \u001b[4mw_S_MW\u001b[0m(n_Densities,n_MW_Radii,n_MW_Frequencies), float64 \u001b[4mg_S_MW\u001b[0m(n_Densities,n_MW_Radii,n_MW_Frequencies), float64 \u001b[4mpcoeff_S_MW\u001b[0m(n_Phase_Elements,n_Legendre_Terms,n_Densities,n_MW_Radii,n_MW_Frequencies), float64 \u001b[4mke_IR\u001b[0m(n_IR_Densities,n_IR_Radii,n_IR_Frequencies), float64 \u001b[4mw_IR\u001b[0m(n_IR_Densities,n_IR_Radii,n_IR_Frequencies), float64 \u001b[4mg_IR\u001b[0m(n_IR_Densities,n_IR_Radii,n_IR_Frequencies), float64 \u001b[4mpcoeff_IR\u001b[0m(n_Legendre_Terms,n_IR_Densities,n_IR_Radii,n_IR_Frequencies)\n",
       "    groups: "
      ]
     },
     "execution_count": 30,
     "metadata": {},
     "output_type": "execute_result"
    }
   ],
   "source": [
    "CloudLUT = '/Users/dangch/Documents/CRTM/CRTM_dev/crtm_code_review/fix/CloudCoeff/netCDF/CloudCoeff.nc4'\n",
    "CloudCoeff = Dataset(CloudLUT)\n",
    "CloudCoeff"
   ]
  },
  {
   "cell_type": "code",
   "execution_count": 31,
   "metadata": {},
   "outputs": [
    {
     "name": "stdout",
     "output_type": "stream",
     "text": [
      "nStream, Microwave (n_Reff_MW * n_Frequency_MW) :\n",
      "[[2. 2. 2. 2. 2. 2. 2. 2. 2. 2. 2. 2. 2. 2. 2. 2. 2. 2. 2. 2. 2. 2. 2. 2.\n",
      "  2. 2. 2. 4. 4. 4. 4.]\n",
      " [2. 2. 2. 2. 2. 2. 2. 2. 2. 2. 4. 4. 4. 4. 4. 4. 4. 4. 4. 4. 4. 4. 4. 4.\n",
      "  4. 4. 4. 4. 4. 4. 4.]\n",
      " [2. 2. 2. 2. 4. 4. 4. 4. 4. 4. 4. 4. 4. 4. 4. 4. 4. 4. 4. 4. 4. 4. 4. 4.\n",
      "  4. 4. 4. 4. 4. 4. 4.]\n",
      " [2. 2. 2. 4. 4. 4. 4. 4. 4. 4. 4. 4. 4. 4. 4. 4. 4. 4. 4. 4. 4. 4. 4. 4.\n",
      "  4. 4. 4. 4. 4. 4. 4.]\n",
      " [2. 4. 4. 4. 4. 4. 4. 4. 4. 4. 4. 4. 4. 4. 4. 4. 4. 4. 4. 4. 4. 4. 4. 4.\n",
      "  4. 4. 4. 4. 4. 4. 4.]\n",
      " [2. 4. 4. 4. 4. 4. 4. 4. 4. 4. 4. 4. 4. 4. 4. 4. 4. 4. 4. 4. 4. 4. 4. 4.\n",
      "  4. 4. 4. 4. 4. 6. 6.]\n",
      " [4. 4. 4. 4. 4. 4. 4. 4. 4. 4. 4. 4. 4. 4. 4. 4. 4. 4. 4. 4. 4. 4. 4. 4.\n",
      "  4. 4. 4. 6. 6. 6. 6.]\n",
      " [4. 4. 4. 4. 4. 4. 4. 4. 4. 4. 4. 4. 4. 4. 4. 4. 4. 4. 4. 4. 6. 6. 6. 6.\n",
      "  6. 6. 6. 6. 6. 6. 6.]\n",
      " [4. 4. 4. 4. 4. 4. 4. 4. 4. 4. 4. 4. 6. 6. 6. 6. 6. 6. 6. 6. 6. 6. 6. 6.\n",
      "  6. 6. 6. 6. 6. 6. 6.]\n",
      " [4. 4. 4. 4. 4. 4. 4. 4. 4. 4. 6. 6. 6. 6. 6. 6. 6. 6. 6. 6. 6. 6. 6. 6.\n",
      "  6. 6. 6. 6. 6. 6. 6.]]\n"
     ]
    }
   ],
   "source": [
    "# Microwave\n",
    "Reff_MW = CloudCoeff['Reff_MW'][:]\n",
    "Frequency_MW = CloudCoeff['Frequency_MW'][:]\n",
    "Wavenumber_MW = GHz_to_inverse_cm(Frequency_MW)\n",
    "nstr_MW = np.zeros((len(Reff_MW), len(Wavenumber_MW)))\n",
    "for i, Reff in enumerate(Reff_MW):\n",
    "    for j, wvn in enumerate(Wavenumber_MW):\n",
    "        nstr_MW[i,j] = compute_nstr(Reff, wvn)\n",
    "        \n",
    "print('nStream, Microwave (n_Reff_MW * n_Frequency_MW) :')\n",
    "print(nstr_MW)"
   ]
  },
  {
   "cell_type": "code",
   "execution_count": 32,
   "metadata": {},
   "outputs": [
    {
     "name": "stdout",
     "output_type": "stream",
     "text": [
      "nStream, IR (n_Reff_IR * n_Frequency_IR) :\n",
      "[[2. 4. 4. 4. 4. 4. 4. 4. 4. 4. 4. 4. 4. 4. 4. 4. 4. 4. 4. 4. 4. 4. 4. 4.\n",
      "  4. 4. 4. 4. 4. 4. 4. 4. 4. 4. 4. 4. 4. 4. 4. 4. 4. 4. 4. 4. 4. 4. 4. 4.\n",
      "  4. 4. 4. 4. 4. 4. 4. 4. 4. 6. 6. 6. 6.]\n",
      " [4. 4. 4. 4. 4. 4. 4. 4. 4. 4. 4. 4. 4. 4. 4. 4. 4. 4. 4. 4. 4. 4. 4. 4.\n",
      "  4. 4. 4. 4. 4. 4. 4. 4. 4. 4. 4. 4. 4. 4. 4. 4. 4. 4. 4. 4. 4. 4. 4. 4.\n",
      "  4. 4. 6. 6. 6. 6. 6. 6. 6. 6. 6. 6. 6.]\n",
      " [4. 4. 4. 4. 4. 4. 4. 4. 4. 4. 4. 4. 4. 4. 4. 4. 4. 4. 4. 4. 4. 4. 4. 4.\n",
      "  4. 4. 4. 4. 4. 4. 4. 4. 4. 4. 4. 4. 4. 4. 4. 4. 4. 4. 4. 4. 6. 6. 6. 6.\n",
      "  6. 6. 6. 6. 6. 6. 6. 6. 6. 6. 6. 6. 6.]\n",
      " [4. 4. 4. 4. 4. 4. 4. 4. 4. 4. 4. 4. 4. 4. 4. 4. 4. 4. 4. 4. 4. 4. 4. 4.\n",
      "  4. 4. 4. 4. 4. 4. 4. 4. 4. 4. 4. 4. 4. 4. 4. 6. 6. 6. 6. 6. 6. 6. 6. 6.\n",
      "  6. 6. 6. 6. 6. 6. 6. 6. 6. 6. 6. 6. 6.]\n",
      " [4. 4. 4. 4. 4. 4. 4. 4. 4. 4. 4. 4. 4. 4. 4. 4. 4. 4. 4. 4. 4. 4. 4. 4.\n",
      "  4. 4. 4. 4. 4. 6. 6. 6. 6. 6. 6. 6. 6. 6. 6. 6. 6. 6. 6. 6. 6. 6. 6. 6.\n",
      "  6. 6. 6. 6. 6. 6. 6. 6. 6. 6. 6. 6. 6.]\n",
      " [4. 4. 4. 4. 4. 4. 4. 4. 4. 4. 4. 4. 4. 4. 4. 4. 4. 4. 4. 4. 4. 4. 4. 4.\n",
      "  4. 4. 4. 6. 6. 6. 6. 6. 6. 6. 6. 6. 6. 6. 6. 6. 6. 6. 6. 6. 6. 6. 6. 6.\n",
      "  6. 6. 6. 6. 6. 6. 6. 6. 6. 6. 6. 6. 6.]\n",
      " [4. 4. 4. 4. 4. 4. 4. 4. 4. 4. 4. 4. 4. 4. 4. 4. 4. 4. 4. 4. 4. 6. 6. 6.\n",
      "  6. 6. 6. 6. 6. 6. 6. 6. 6. 6. 6. 6. 6. 6. 6. 6. 6. 6. 6. 6. 6. 6. 6. 6.\n",
      "  6. 6. 6. 6. 6. 6. 6. 6. 6. 6. 6. 6. 6.]\n",
      " [4. 4. 4. 4. 4. 4. 4. 4. 4. 4. 4. 4. 4. 4. 4. 4. 4. 4. 4. 6. 6. 6. 6. 6.\n",
      "  6. 6. 6. 6. 6. 6. 6. 6. 6. 6. 6. 6. 6. 6. 6. 6. 6. 6. 6. 6. 6. 6. 6. 6.\n",
      "  6. 6. 6. 6. 6. 6. 6. 6. 6. 6. 6. 6. 6.]\n",
      " [4. 4. 4. 4. 4. 4. 4. 4. 4. 4. 4. 4. 4. 4. 6. 6. 6. 6. 6. 6. 6. 6. 6. 6.\n",
      "  6. 6. 6. 6. 6. 6. 6. 6. 6. 6. 6. 6. 6. 6. 6. 6. 6. 6. 6. 6. 6. 6. 6. 6.\n",
      "  6. 6. 6. 6. 6. 6. 6. 6. 6. 6. 6. 6. 6.]\n",
      " [4. 4. 4. 4. 4. 4. 6. 6. 6. 6. 6. 6. 6. 6. 6. 6. 6. 6. 6. 6. 6. 6. 6. 6.\n",
      "  6. 6. 6. 6. 6. 6. 6. 6. 6. 6. 6. 6. 6. 6. 6. 6. 6. 6. 6. 6. 6. 6. 6. 6.\n",
      "  6. 6. 6. 6. 6. 6. 6. 6. 6. 6. 6. 6. 6.]]\n"
     ]
    }
   ],
   "source": [
    "# IR\n",
    "Reff_IR = CloudCoeff['Reff_IR'][:]\n",
    "Frequency_IR = CloudCoeff['Frequency_IR'][:]\n",
    "Wavenumber_IR = GHz_to_inverse_cm(Frequency_IR)\n",
    "nstr_IR = np.zeros((len(Reff_IR), len(Wavenumber_IR)))\n",
    "for i, Reff in enumerate(Reff_IR):\n",
    "    for j, wvn in enumerate(Wavenumber_IR):\n",
    "        nstr_IR[i,j] = compute_nstr(Reff, wvn)\n",
    "        \n",
    "print('nStream, IR (n_Reff_IR * n_Frequency_IR) :')\n",
    "print(nstr_IR)"
   ]
  },
  {
   "cell_type": "code",
   "execution_count": null,
   "metadata": {},
   "outputs": [],
   "source": []
  }
 ],
 "metadata": {
  "kernelspec": {
   "display_name": "Python 3",
   "language": "python",
   "name": "python3"
  },
  "language_info": {
   "codemirror_mode": {
    "name": "ipython",
    "version": 3
   },
   "file_extension": ".py",
   "mimetype": "text/x-python",
   "name": "python",
   "nbconvert_exporter": "python",
   "pygments_lexer": "ipython3",
   "version": "3.7.4"
  }
 },
 "nbformat": 4,
 "nbformat_minor": 2
}
